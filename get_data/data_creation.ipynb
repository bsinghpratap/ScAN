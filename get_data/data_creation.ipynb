{
 "cells": [
  {
   "cell_type": "code",
   "execution_count": 1,
   "id": "c447f748-4755-4ff1-bb54-6ae056c2ddbb",
   "metadata": {},
   "outputs": [],
   "source": [
    "import json\n",
    "from os.path import join\n",
    "from tqdm import tqdm\n",
    "from pprint import pprint"
   ]
  },
  {
   "cell_type": "code",
   "execution_count": 2,
   "id": "7efcaf3c-fe8e-4983-989a-9057dd3bf8af",
   "metadata": {},
   "outputs": [],
   "source": [
    "from scripts.raw_data_parser import dataExtractor\n",
    "from scripts.patient_note_parser import patientNoteParser"
   ]
  },
  {
   "cell_type": "code",
   "execution_count": 3,
   "id": "f3d68c2e-27ae-43a5-b8a2-7dd806c4d927",
   "metadata": {},
   "outputs": [],
   "source": [
    "def prettify(n):\n",
    "    return f'{n:_}'"
   ]
  },
  {
   "cell_type": "code",
   "execution_count": 4,
   "id": "d893a39f-b596-4e2e-93d8-fcc7755d26d9",
   "metadata": {},
   "outputs": [],
   "source": [
    "data_ext = dataExtractor(guidelines_addr=\"resources/section_guidelines.json\", \n",
    "                         notevents_addr=\"resources/NOTEEVENTS.csv\", \n",
    "                         sids_hadmids_addr=\"resources/sids_hadmids.pkl\")"
   ]
  },
  {
   "cell_type": "code",
   "execution_count": 5,
   "id": "c202c171-14b6-43fd-83f7-034302620e36",
   "metadata": {},
   "outputs": [
    {
     "name": "stdout",
     "output_type": "stream",
     "text": [
      "Total Files: len(data)\n"
     ]
    }
   ],
   "source": [
    "all_data = data_ext.read_data()"
   ]
  },
  {
   "cell_type": "code",
   "execution_count": 6,
   "id": "f214c90f-67b6-492e-8d2c-f2a8393ba035",
   "metadata": {},
   "outputs": [
    {
     "data": {
      "text/plain": [
       "'12_759'"
      ]
     },
     "execution_count": 6,
     "metadata": {},
     "output_type": "execute_result"
    }
   ],
   "source": [
    "prettify(len(all_data))"
   ]
  },
  {
   "cell_type": "code",
   "execution_count": 8,
   "id": "5c828855-4ff8-4b0c-9dc6-563c7a73d574",
   "metadata": {},
   "outputs": [
    {
     "name": "stderr",
     "output_type": "stream",
     "text": [
      "100%|█████████████████████████████████████████████████████████████████████████████████| 12759/12759 [00:01<00:00, 8762.65it/s]\n"
     ]
    }
   ],
   "source": [
    "data_ext.create_corpus(data=all_data, \n",
    "                       corpus_dir='./corpus')"
   ]
  },
  {
   "cell_type": "code",
   "execution_count": 9,
   "id": "a811363f-13fd-4535-b7b0-efffbab5b8bc",
   "metadata": {},
   "outputs": [],
   "source": [
    "train_annotations = json.load(open('../annotations/train_hadm.json', 'r'))\n",
    "val_annotations = json.load(open('../annotations/val_hadm.json', 'r'))"
   ]
  },
  {
   "cell_type": "code",
   "execution_count": 10,
   "id": "7760f796-8ee8-412b-8c28-ce819a8a9eaa",
   "metadata": {},
   "outputs": [],
   "source": [
    "note_parser = patientNoteParser()"
   ]
  },
  {
   "cell_type": "code",
   "execution_count": 11,
   "id": "1f2ea92a-0938-4f55-9a9c-609a12464b30",
   "metadata": {},
   "outputs": [],
   "source": [
    "corpus_dir = 'corpus/'"
   ]
  },
  {
   "cell_type": "code",
   "execution_count": 12,
   "id": "fe5652eb-35eb-4518-9af7-4bc0f981d78f",
   "metadata": {},
   "outputs": [],
   "source": [
    "def create_paras_add_annotations(corpus_dir, curr_annotations, parser):\n",
    "    curr_paras = {} \n",
    "    for each_annotation_file, annotation_vals in tqdm(curr_annotations.items()):\n",
    "        instance_doc = open(join(corpus_dir, each_annotation_file)).read() \n",
    "        extracted_sentences = parser.extract_sentences(instance_doc) \n",
    "        paras = parser.group_into_paragraphs(sentences=extracted_sentences, \n",
    "                                             num_sentences=20, \n",
    "                                             overlap=5)\n",
    "        paras = parser.add_annotations_to_paragraphs(paragraphs=paras, \n",
    "                                                     annotations=annotation_vals)\n",
    "        curr_paras[each_annotation_file] = paras\n",
    "    return curr_paras"
   ]
  },
  {
   "cell_type": "code",
   "execution_count": 15,
   "id": "a591599f-ecbd-4f6e-8c4f-03ef154b51b5",
   "metadata": {},
   "outputs": [
    {
     "name": "stderr",
     "output_type": "stream",
     "text": [
      "100%|███████████████████████████████████████████████████████████████████████████████████████| 493/493 [10:15<00:00,  1.25s/it]\n"
     ]
    }
   ],
   "source": [
    "train_paras = create_paras_add_annotations(corpus_dir=corpus_dir, \n",
    "                                           curr_annotations=train_annotations, \n",
    "                                           parser=note_parser)"
   ]
  },
  {
   "cell_type": "code",
   "execution_count": 16,
   "id": "b8becbeb-aad8-4a7f-81ea-5ac6c1e03268",
   "metadata": {},
   "outputs": [
    {
     "data": {
      "text/plain": [
       "'493'"
      ]
     },
     "execution_count": 16,
     "metadata": {},
     "output_type": "execute_result"
    }
   ],
   "source": [
    "prettify(len(train_paras))"
   ]
  },
  {
   "cell_type": "code",
   "execution_count": 17,
   "id": "6415716b-8f42-4609-bb82-e650844ef6c6",
   "metadata": {},
   "outputs": [],
   "source": [
    "random_id = next(iter(train_paras))"
   ]
  },
  {
   "cell_type": "code",
   "execution_count": 18,
   "id": "2a2afd20-5595-42cd-bcf3-fc99faaff721",
   "metadata": {},
   "outputs": [],
   "source": [
    "train_paras[random_id][0]['text'] = \"Overwriting the paragraph here since it is sensitive information but this would be a para of 20 sentences.\""
   ]
  },
  {
   "cell_type": "code",
   "execution_count": 19,
   "id": "7fdf6b7b-afe7-42f2-b41d-441c7f03be44",
   "metadata": {},
   "outputs": [
    {
     "name": "stdout",
     "output_type": "stream",
     "text": [
      "{'annotations': [{'annotation': ['276', '289', None],\n",
      "                  'category': 'T36-T50',\n",
      "                  'frequency': 'single',\n",
      "                  'period': 'current',\n",
      "                  'suicide_attempt': None},\n",
      "                 {'annotation': ['291', '358', None],\n",
      "                  'category': 'T36-T50',\n",
      "                  'frequency': 'single',\n",
      "                  'period': 'current',\n",
      "                  'suicide_attempt': None},\n",
      "                 {'annotation': ['437', '620', None],\n",
      "                  'category': 'T36-T50',\n",
      "                  'frequency': 'single',\n",
      "                  'period': 'current',\n",
      "                  'suicide_attempt': None},\n",
      "                 {'annotation': ['622', '782', None],\n",
      "                  'category': 'T36-T50',\n",
      "                  'frequency': 'single',\n",
      "                  'period': 'current',\n",
      "                  'suicide_attempt': None}],\n",
      " 'end': 1550,\n",
      " 'start': 0,\n",
      " 'text': 'Overwriting the paragraph here since it is sensitive information but '\n",
      "         'this would be a para of 20 sentences.'}\n"
     ]
    }
   ],
   "source": [
    "pprint(train_paras[random_id][0])"
   ]
  },
  {
   "cell_type": "code",
   "execution_count": 20,
   "id": "b8e46af6-62a7-4816-8be7-995e4eb69a88",
   "metadata": {},
   "outputs": [
    {
     "data": {
      "text/plain": [
       "'13_241'"
      ]
     },
     "execution_count": 20,
     "metadata": {},
     "output_type": "execute_result"
    }
   ],
   "source": [
    "prettify(sum([val.__len__() for key, val in train_paras.items()]))"
   ]
  },
  {
   "cell_type": "code",
   "execution_count": null,
   "id": "58fc1554-d5f2-40b6-ab48-2a08b48ac72a",
   "metadata": {},
   "outputs": [],
   "source": []
  }
 ],
 "metadata": {
  "kernelspec": {
   "display_name": "Python 3 (ipykernel)",
   "language": "python",
   "name": "python3"
  },
  "language_info": {
   "codemirror_mode": {
    "name": "ipython",
    "version": 3
   },
   "file_extension": ".py",
   "mimetype": "text/x-python",
   "name": "python",
   "nbconvert_exporter": "python",
   "pygments_lexer": "ipython3",
   "version": "3.9.17"
  }
 },
 "nbformat": 4,
 "nbformat_minor": 5
}
